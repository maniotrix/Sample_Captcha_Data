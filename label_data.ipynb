{
 "cells": [
  {
   "cell_type": "code",
   "execution_count": 1,
   "metadata": {},
   "outputs": [],
   "source": [
    "import os\n",
    "import pandas as pd\n"
   ]
  },
  {
   "cell_type": "code",
   "execution_count": 2,
   "metadata": {},
   "outputs": [],
   "source": [
    "\n",
    "# Read the CSV file containing the labels\n",
    "labels_df = pd.read_csv('google-sheets/_start_1000/file_names_start_1000_labels.csv')\n",
    "\n",
    "file_count = 200\n",
    "\n",
    "# Get the first 201 rows (including the column row)\n",
    "labels_df = labels_df.head(file_count + 1)\n"
   ]
  },
  {
   "cell_type": "code",
   "execution_count": 3,
   "metadata": {},
   "outputs": [
    {
     "data": {
      "text/plain": [
       "'sleep1706447213645.png'"
      ]
     },
     "execution_count": 3,
     "metadata": {},
     "output_type": "execute_result"
    }
   ],
   "source": [
    "labels_df['Captcha_Name'][200]"
   ]
  },
  {
   "cell_type": "code",
   "execution_count": 4,
   "metadata": {},
   "outputs": [],
   "source": [
    "folder_path = 'rsce_sample_captcha_batches/_start_1000'\n",
    "file_names = os.listdir(folder_path)\n",
    "file_names = [file for file in file_names if file.endswith('.png')]\n"
   ]
  },
  {
   "cell_type": "code",
   "execution_count": 5,
   "metadata": {},
   "outputs": [],
   "source": [
    "\n",
    "# Loop through the first 200 files\n",
    "for i, file_name in enumerate(file_names[:file_count]):\n",
    "    \n",
    "    # check if file not already renamed\n",
    "    if file_name.find('_') != -1:\n",
    "        continue\n",
    "    \n",
    "    # Search for the file name in the \"Captcha_Name\" column\n",
    "    try:\n",
    "        label = labels_df.loc[labels_df['Captcha_Name'] == file_name, 'Captcha_Answer'].values[0]\n",
    "    except:\n",
    "        label = None\n",
    "        raise Exception('Label not found for file: ' + file_name)\n",
    "        break    \n",
    "    \n",
    "    # # Rename the file with the appended label\n",
    "    new_file_name = file_name.replace('.png', '_' + str(label) + '.png')\n",
    "    os.rename(os.path.join(folder_path, file_name), os.path.join(folder_path, new_file_name))\n"
   ]
  }
 ],
 "metadata": {
  "kernelspec": {
   "display_name": "base",
   "language": "python",
   "name": "python3"
  },
  "language_info": {
   "codemirror_mode": {
    "name": "ipython",
    "version": 3
   },
   "file_extension": ".py",
   "mimetype": "text/x-python",
   "name": "python",
   "nbconvert_exporter": "python",
   "pygments_lexer": "ipython3",
   "version": "3.9.18"
  }
 },
 "nbformat": 4,
 "nbformat_minor": 2
}
