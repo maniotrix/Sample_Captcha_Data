{
 "cells": [
  {
   "cell_type": "code",
   "execution_count": 1,
   "metadata": {},
   "outputs": [],
   "source": [
    "import requests\n",
    "import glob\n",
    "import os\n",
    "from PIL import Image\n",
    "from colorama import Fore, Style\n"
   ]
  },
  {
   "cell_type": "code",
   "execution_count": 2,
   "metadata": {},
   "outputs": [],
   "source": [
    "def get_prediction_from_server(image_path):\n",
    "    \n",
    "    # Set the URL for the predict endpoint\n",
    "    url = 'http://localhost:5000/predict'\n",
    "    \n",
    "    # Create a dictionary with the image file\n",
    "    files = {'image': open(image_path, 'rb')}\n",
    "    \n",
    "    print(files['image'])\n",
    "    # Send a POST request to the predict endpoint\n",
    "    response = requests.post(url, files=files)\n",
    "    \n",
    "    # Get the predicted text from the response\n",
    "    predicted_text = response.json()['predicted_text']\n",
    "    \n",
    "    return predicted_text\n",
    "    "
   ]
  },
  {
   "cell_type": "code",
   "execution_count": 3,
   "metadata": {},
   "outputs": [
    {
     "data": {
      "image/jpeg": "[encoded data removed]",
      "image/png": "[encoded data removed]",
      "text/plain": [
       "<PIL.PngImagePlugin.PngImageFile image mode=RGB size=255x40>"
      ]
     },
     "metadata": {},
     "output_type": "display_data"
    },
    {
     "name": "stdout",
     "output_type": "stream",
     "text": [
      "<_io.BufferedReader name='./rsce_sample_captcha_batches_2/_start_8000\\\\sleep1709494601457.png'>\n",
      "Predicted Text:  \u001b[33mydbxm \u001b[0m- File Name:  ./rsce_sample_captcha_batches_2/_start_8000\\sleep1709494601457.png\n"
     ]
    }
   ],
   "source": [
    "test_files_dir = \"./rsce_sample_captcha_batches_2/_start_8000\"\n",
    "# Get a list of all .png files in the current directory\n",
    "png_files = glob.glob(os.path.join(test_files_dir, '*.png'))\n",
    "\n",
    "# Iterate through the .png files\n",
    "for file in png_files[1:2]:\n",
    "    # Also show image before prediction\n",
    "    image = Image.open(file)\n",
    "    display(image)\n",
    "    result = get_prediction_from_server(file)\n",
    "    # Print the predicted text in yellow and image file name in one line\n",
    "    print(\"Predicted Text:  \"+ Fore.YELLOW + result, Style.RESET_ALL + \"- File Name: \", file)"
   ]
  }
 ],
 "metadata": {
  "kernelspec": {
   "display_name": "tf",
   "language": "python",
   "name": "python3"
  },
  "language_info": {
   "codemirror_mode": {
    "name": "ipython",
    "version": 3
   },
   "file_extension": ".py",
   "mimetype": "text/x-python",
   "name": "python",
   "nbconvert_exporter": "python",
   "pygments_lexer": "ipython3",
   "version": "3.10.12"
  }
 },
 "nbformat": 4,
 "nbformat_minor": 2
}
