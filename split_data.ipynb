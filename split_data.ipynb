{
 "cells": [
  {
   "cell_type": "code",
   "execution_count": 2,
   "metadata": {},
   "outputs": [],
   "source": [
    "import os\n",
    "import shutil\n",
    "import csv\n",
    "\n",
    "# Define the source folder containing the files\n",
    "source_folder = './rsce_sample_captcha_2'\n",
    "_batch_folder = './rsce_sample_captcha_batches_2/'\n",
    "\n",
    "# Create a new folder to store the batches\n",
    "os.makedirs(_batch_folder, exist_ok=True)\n",
    "\n",
    "# Get the list of files in the source folder\n",
    "files = os.listdir(source_folder)\n",
    "\n",
    "# Calculate the number of batches\n",
    "num_batches = (len(files) // 1000) + 1\n",
    "\n",
    "# Split the files into batches\n",
    "for i in range(num_batches):\n",
    "    # Create a new folder for each batch\n",
    "    batch_folder = f'{_batch_folder}_start_{(i+1) * 1000}'\n",
    "    os.makedirs(batch_folder, exist_ok=True)\n",
    "    \n",
    "    # Determine the start and end indices for the current batch\n",
    "    start_index = i * 1000\n",
    "    end_index = min((i + 1) * 1000, len(files))\n",
    "    \n",
    "    # Create a new CSV file for the current batch\n",
    "    with open(f'{batch_folder}/file_names.csv', 'w', newline='') as csvfile:\n",
    "        \n",
    "        filewriter = csv.writer(csvfile)\n",
    "        \n",
    "        # Define the column name for file names\n",
    "        filewriter.writerow(['Captcha_Name'])\n",
    "        \n",
    "        # Copy the files from the source folder to the current batch folder\n",
    "        for j in range(start_index, end_index):\n",
    "            file = files[j]\n",
    "            source_path = os.path.join(source_folder, file)\n",
    "            destination_path = os.path.join(batch_folder, file)\n",
    "            shutil.copy(source_path, destination_path)\n",
    "            \n",
    "            # Write the file name to the CSV file\n",
    "            filewriter.writerow([file])"
   ]
  }
 ],
 "metadata": {
  "kernelspec": {
   "display_name": "base",
   "language": "python",
   "name": "python3"
  },
  "language_info": {
   "codemirror_mode": {
    "name": "ipython",
    "version": 3
   },
   "file_extension": ".py",
   "mimetype": "text/x-python",
   "name": "python",
   "nbconvert_exporter": "python",
   "pygments_lexer": "ipython3",
   "version": "3.9.18"
  }
 },
 "nbformat": 4,
 "nbformat_minor": 2
}
