{
  "cells": [
    {
      "cell_type": "markdown",
      "metadata": {
        "id": "GIED9DtN_fTb"
      },
      "source": [
        "# OCR model for reading Captchas\n",
        "\n",
        "**Author:** [A_K_Nain](https://twitter.com/A_K_Nain)<br>\n",
        "**Date created:** 2020/06/14<br>\n",
        "**Last modified:** 2020/06/26<br>\n",
        "**Description:** How to implement an OCR model using CNNs, RNNs and CTC loss."
      ]
    },
    {
      "cell_type": "markdown",
      "metadata": {
        "id": "Rz_iAFlD_fTi"
      },
      "source": [
        "## Introduction\n",
        "\n",
        "This example demonstrates a simple OCR model built with the Functional API. Apart from\n",
        "combining CNN and RNN, it also illustrates how you can instantiate a new layer\n",
        "and use it as an \"Endpoint layer\" for implementing CTC loss. For a detailed\n",
        "guide to layer subclassing, please check out\n",
        "[this page](https://keras.io/guides/making_new_layers_and_models_via_subclassing/)\n",
        "in the developer guides."
      ]
    },
    {
      "cell_type": "markdown",
      "metadata": {
        "id": "Aj6ymqx4_fTk"
      },
      "source": [
        "## Setup"
      ]
    },
    {
      "cell_type": "code",
      "execution_count": 43,
      "metadata": {
        "id": "t-C3w5eo_fTk"
      },
      "outputs": [],
      "source": [
        "import os\n",
        "\n",
        "os.environ[\"KERAS_BACKEND\"] = \"tensorflow\"\n",
        "\n",
        "import os\n",
        "import numpy as np\n",
        "import matplotlib.pyplot as plt\n",
        "\n",
        "from pathlib import Path\n",
        "from collections import Counter\n",
        "\n",
        "import tensorflow as tf\n",
        "import keras\n",
        "from keras import layers\n",
        "\n",
        "from PIL import Image"
      ]
    },
    {
      "cell_type": "code",
      "source": [
        "print(\"TensorFlow version:\", tf.__version__)\n",
        "print(\"Keras version:\", keras.__version__)\n",
        "import sys\n",
        "print(sys.version)"
      ],
      "metadata": {
        "id": "wZrTpSAHAqeH",
        "outputId": "52b4d917-5bd5-4a93-ce75-cb64f1e02460",
        "colab": {
          "base_uri": "https://localhost:8080/"
        }
      },
      "execution_count": 44,
      "outputs": [
        {
          "output_type": "stream",
          "name": "stdout",
          "text": [
            "TensorFlow version: 2.15.0\n",
            "Keras version: 2.15.0\n",
            "3.10.12 (main, Nov 20 2023, 15:14:05) [GCC 11.4.0]\n"
          ]
        }
      ]
    },
    {
      "cell_type": "code",
      "source": [
        "!rm -rf data_folder\n",
        "!rm -f data-samples.zip"
      ],
      "metadata": {
        "id": "sCj5yuAFCpzX"
      },
      "execution_count": 45,
      "outputs": []
    },
    {
      "cell_type": "markdown",
      "metadata": {
        "id": "EbSNJUFY_fTm"
      },
      "source": [
        "## Load the data: [Captcha Images](https://www.kaggle.com/fournierp/captcha-version-2-images)\n",
        "Let's download the data."
      ]
    },
    {
      "cell_type": "code",
      "source": [
        "data_folder = \"./data_folder\""
      ],
      "metadata": {
        "id": "eEoWI_flBZbJ"
      },
      "execution_count": 46,
      "outputs": []
    },
    {
      "cell_type": "code",
      "execution_count": 47,
      "metadata": {
        "id": "8W_qZmmv_fTn",
        "colab": {
          "base_uri": "https://localhost:8080/"
        },
        "outputId": "2d104766-8283-4b6d-e9a7-f65d72766a43"
      },
      "outputs": [
        {
          "output_type": "stream",
          "name": "stdout",
          "text": [
            "  % Total    % Received % Xferd  Average Speed   Time    Time     Time  Current\n",
            "                                 Dload  Upload   Total   Spent    Left  Speed\n",
            "  0     0    0     0    0     0      0      0 --:--:-- --:--:-- --:--:--     0\n",
            "100 29.2M  100 29.2M    0     0  31.4M      0 --:--:-- --:--:-- --:--:-- 31.4M\n"
          ]
        }
      ],
      "source": [
        "!curl -LO https://github.com/maniotrix/Sample_Captcha_Data/raw/main/data-samples.zip\n",
        "!unzip -qq data-samples.zip -d data_folder"
      ]
    },
    {
      "cell_type": "markdown",
      "metadata": {
        "id": "4w-rUQ3-_fTo"
      },
      "source": [
        "The dataset contains 1040 captcha files as `png` images. The label for each sample is a string,\n",
        "the name of the file (minus the file extension).\n",
        "We will map each character in the string to an integer for training the model. Similary,\n",
        "we will need to map the predictions of the model back to strings. For this purpose\n",
        "we will maintain two dictionaries, mapping characters to integers, and integers to characters,\n",
        "respectively."
      ]
    },
    {
      "cell_type": "code",
      "execution_count": 48,
      "metadata": {
        "id": "4mfei5uj_fTo",
        "colab": {
          "base_uri": "https://localhost:8080/"
        },
        "outputId": "829a0e11-119d-4453-e10b-65f29262d486"
      },
      "outputs": [
        {
          "output_type": "stream",
          "name": "stdout",
          "text": [
            "Number of images found:  10073\n",
            "Number of labels found:  10073\n",
            "Number of unique characters:  23\n",
            "Characters present:  ['2', '3', '4', '5', '6', '7', '8', 'a', 'b', 'c', 'd', 'e', 'f', 'g', 'h', 'k', 'm', 'n', 'p', 'r', 'w', 'x', 'y']\n"
          ]
        }
      ],
      "source": [
        "\n",
        "# Path to the data directory\n",
        "data_dir = Path(data_folder)\n",
        "\n",
        "# Get list of all the images\n",
        "images = sorted(list(map(str, list(data_dir.glob(\"*.png\")))))\n",
        "labels = [img.split(os.path.sep)[-1].split(\"_\")[-1].split(\".png\")[0] for img in images]\n",
        "characters = set(char for label in labels for char in label)\n",
        "characters = sorted(list(characters))\n",
        "\n",
        "print(\"Number of images found: \", len(images))\n",
        "print(\"Number of labels found: \", len(labels))\n",
        "print(\"Number of unique characters: \", len(characters))\n",
        "print(\"Characters present: \", characters)\n",
        "\n",
        "# Batch size for training and validation\n",
        "batch_size = 16\n",
        "\n",
        "# Desired image dimensions\n",
        "img_width = 200\n",
        "img_height = 50\n",
        "\n",
        "# Factor by which the image is going to be downsampled\n",
        "# by the convolutional blocks. We will be using two\n",
        "# convolution blocks and each block will have\n",
        "# a pooling layer which downsample the features by a factor of 2.\n",
        "# Hence total downsampling factor would be 4.\n",
        "downsample_factor = 4\n",
        "\n",
        "# Maximum length of any captcha in the dataset\n",
        "max_length = max([len(label) for label in labels])\n"
      ]
    },
    {
      "cell_type": "code",
      "source": [
        "for label in labels:\n",
        "  if(len(label) > 5):\n",
        "    print(\"labels : \"+label)"
      ],
      "metadata": {
        "id": "RO4j_Q8KfYfh"
      },
      "execution_count": 49,
      "outputs": []
    },
    {
      "cell_type": "markdown",
      "metadata": {
        "id": "DkN7YM0P_fTq"
      },
      "source": [
        "## Preprocessing"
      ]
    },
    {
      "cell_type": "code",
      "execution_count": 50,
      "metadata": {
        "id": "Ltd9xNHN_fTt"
      },
      "outputs": [],
      "source": [
        "\n",
        "# Mapping characters to integers\n",
        "char_to_num = layers.StringLookup(vocabulary=list(characters), mask_token=None)\n",
        "\n",
        "# Mapping integers back to original characters\n",
        "num_to_char = layers.StringLookup(\n",
        "    vocabulary=char_to_num.get_vocabulary(), mask_token=None, invert=True\n",
        ")\n",
        "\n",
        "\n",
        "def split_data(images, labels, train_size=0.9, shuffle=True):\n",
        "    # 1. Get the total size of the dataset\n",
        "    size = len(images)\n",
        "    # 2. Make an indices array and shuffle it, if required\n",
        "    indices = np.arange(size)\n",
        "    if shuffle:\n",
        "        np.random.shuffle(indices)\n",
        "    # 3. Get the size of training samples\n",
        "    train_samples = int(size * train_size)\n",
        "    # 4. Split data into training and validation sets\n",
        "    x_train, y_train = images[indices[:train_samples]], labels[indices[:train_samples]]\n",
        "    x_valid, y_valid = images[indices[train_samples:]], labels[indices[train_samples:]]\n",
        "    return x_train, x_valid, y_train, y_valid\n",
        "\n",
        "\n",
        "# Splitting data into training and validation sets\n",
        "x_train, x_valid, y_train, y_valid = split_data(np.array(images), np.array(labels))\n",
        "\n",
        "\n",
        "def encode_single_sample(img_path, label):\n",
        "    # 1. Read image\n",
        "    img = tf.io.read_file(img_path)\n",
        "    # 2. Decode and convert to grayscale\n",
        "    img = tf.io.decode_png(img, channels=1)\n",
        "    # 3. Convert to float32 in [0, 1] range\n",
        "    img = tf.image.convert_image_dtype(img, tf.float32)\n",
        "    # 4. Resize to the desired size\n",
        "    img = tf.image.resize(img, [img_height, img_width])\n",
        "    # 5. Transpose the image because we want the time\n",
        "    # dimension to correspond to the width of the image.\n",
        "    img = tf.transpose(img, perm=[1, 0, 2])\n",
        "    # 6. Map the characters in label to numbers\n",
        "    label = char_to_num(tf.strings.unicode_split(label, input_encoding=\"UTF-8\"))\n",
        "    # 7. Return a dict as our model is expecting two inputs\n",
        "    return {\"image\": img, \"label\": label}\n"
      ]
    },
    {
      "cell_type": "markdown",
      "metadata": {
        "id": "lfy10kIT_fTu"
      },
      "source": [
        "## Create `Dataset` objects"
      ]
    },
    {
      "cell_type": "code",
      "execution_count": 51,
      "metadata": {
        "id": "1mhhBwnO_fTv"
      },
      "outputs": [],
      "source": [
        "\n",
        "train_dataset = tf.data.Dataset.from_tensor_slices((x_train, y_train))\n",
        "train_dataset = (\n",
        "    train_dataset.map(encode_single_sample, num_parallel_calls=tf.data.AUTOTUNE)\n",
        "    .batch(batch_size)\n",
        "    .prefetch(buffer_size=tf.data.AUTOTUNE)\n",
        ")\n",
        "\n",
        "validation_dataset = tf.data.Dataset.from_tensor_slices((x_valid, y_valid))\n",
        "validation_dataset = (\n",
        "    validation_dataset.map(encode_single_sample, num_parallel_calls=tf.data.AUTOTUNE)\n",
        "    .batch(batch_size)\n",
        "    .prefetch(buffer_size=tf.data.AUTOTUNE)\n",
        ")"
      ]
    },
    {
      "cell_type": "markdown",
      "metadata": {
        "id": "DHKy6-SQ_fTv"
      },
      "source": [
        "## Visualize the data"
      ]
    },
    {
      "cell_type": "code",
      "source": [
        "image = Image.open(x_train[0])\n",
        "image"
      ],
      "metadata": {
        "colab": {
          "base_uri": "https://localhost:8080/",
          "height": 57
        },
        "id": "gl4Nus8uMLDb",
        "outputId": "d87e25ec-eb98-4d1f-9904-145c64f91d85"
      },
      "execution_count": 52,
      "outputs": [
        {
          "output_type": "execute_result",
          "data": {
            "text/plain": [
              "<PIL.PngImagePlugin.PngImageFile image mode=RGB size=255x40>"
            ],
            "image/png": "[encoded data removed]"
          },
          "metadata": {},
          "execution_count": 52
        }
      ]
    },
    {
      "cell_type": "code",
      "execution_count": 53,
      "metadata": {
        "id": "0nogN4VM_fTv",
        "colab": {
          "base_uri": "https://localhost:8080/",
          "height": 387
        },
        "outputId": "a368c4d7-cf3e-49ad-eccb-e4c7d24d9bf7"
      },
      "outputs": [
        {
          "output_type": "display_data",
          "data": {
            "text/plain": [
              "<Figure size 1000x500 with 16 Axes>"
            ],
            "image/png": "[encoded data removed]"
          },
          "metadata": {}
        }
      ],
      "source": [
        "\n",
        "_, ax = plt.subplots(4, 4, figsize=(10, 5))\n",
        "for batch in train_dataset.take(1):\n",
        "    images = batch[\"image\"]\n",
        "    labels = batch[\"label\"]\n",
        "    for i in range(16):\n",
        "        img = (images[i] * 255).numpy().astype(\"uint8\")\n",
        "        label = tf.strings.reduce_join(num_to_char(labels[i])).numpy().decode(\"utf-8\")\n",
        "        ax[i // 4, i % 4].imshow(Image.open(x_train[i]))\n",
        "        ax[i // 4, i % 4].set_title(label)\n",
        "        ax[i // 4, i % 4].axis(\"off\")\n",
        "plt.show()"
      ]
    },
    {
      "cell_type": "markdown",
      "metadata": {
        "id": "PW2ydQG7_fTw"
      },
      "source": [
        "## Model"
      ]
    },
    {
      "cell_type": "code",
      "execution_count": 54,
      "metadata": {
        "id": "C2wrSCXT_fTw",
        "colab": {
          "base_uri": "https://localhost:8080/"
        },
        "outputId": "4ce9fc36-c217-4674-e355-a4aa3720b3e4"
      },
      "outputs": [
        {
          "output_type": "stream",
          "name": "stdout",
          "text": [
            "Model: \"ocr_model_v1\"\n",
            "__________________________________________________________________________________________________\n",
            " Layer (type)                Output Shape                 Param #   Connected to                  \n",
            "==================================================================================================\n",
            " image (InputLayer)          [(None, 200, 50, 1)]         0         []                            \n",
            "                                                                                                  \n",
            " Conv1 (Conv2D)              (None, 200, 50, 32)          320       ['image[0][0]']               \n",
            "                                                                                                  \n",
            " pool1 (MaxPooling2D)        (None, 100, 25, 32)          0         ['Conv1[0][0]']               \n",
            "                                                                                                  \n",
            " Conv2 (Conv2D)              (None, 100, 25, 64)          18496     ['pool1[0][0]']               \n",
            "                                                                                                  \n",
            " pool2 (MaxPooling2D)        (None, 50, 12, 64)           0         ['Conv2[0][0]']               \n",
            "                                                                                                  \n",
            " reshape (Reshape)           (None, 50, 768)              0         ['pool2[0][0]']               \n",
            "                                                                                                  \n",
            " dense1 (Dense)              (None, 50, 64)               49216     ['reshape[0][0]']             \n",
            "                                                                                                  \n",
            " dropout_3 (Dropout)         (None, 50, 64)               0         ['dense1[0][0]']              \n",
            "                                                                                                  \n",
            " bidirectional_6 (Bidirecti  (None, 50, 256)              197632    ['dropout_3[0][0]']           \n",
            " onal)                                                                                            \n",
            "                                                                                                  \n",
            " bidirectional_7 (Bidirecti  (None, 50, 128)              164352    ['bidirectional_6[0][0]']     \n",
            " onal)                                                                                            \n",
            "                                                                                                  \n",
            " label (InputLayer)          [(None, None)]               0         []                            \n",
            "                                                                                                  \n",
            " dense2 (Dense)              (None, 50, 25)               3225      ['bidirectional_7[0][0]']     \n",
            "                                                                                                  \n",
            " ctc_loss (CTCLayer)         (None, 50, 25)               0         ['label[0][0]',               \n",
            "                                                                     'dense2[0][0]']              \n",
            "                                                                                                  \n",
            "==================================================================================================\n",
            "Total params: 433241 (1.65 MB)\n",
            "Trainable params: 433241 (1.65 MB)\n",
            "Non-trainable params: 0 (0.00 Byte)\n",
            "__________________________________________________________________________________________________\n"
          ]
        }
      ],
      "source": [
        "\n",
        "def ctc_batch_cost(y_true, y_pred, input_length, label_length):\n",
        "    label_length = tf.cast(tf.squeeze(label_length, axis=-1), tf.int32)\n",
        "    input_length = tf.cast(tf.squeeze(input_length, axis=-1), tf.int32)\n",
        "    sparse_labels = tf.cast(ctc_label_dense_to_sparse(y_true, label_length), tf.int32)\n",
        "\n",
        "    y_pred = tf.math.log(tf.transpose(y_pred, perm=[1, 0, 2]) + keras.backend.epsilon())\n",
        "\n",
        "    return tf.expand_dims(\n",
        "        tf.compat.v1.nn.ctc_loss(\n",
        "            inputs=y_pred, labels=sparse_labels, sequence_length=input_length\n",
        "        ),\n",
        "        1,\n",
        "    )\n",
        "\n",
        "\n",
        "def ctc_label_dense_to_sparse(labels, label_lengths):\n",
        "    label_shape = tf.shape(labels)\n",
        "    num_batches_tns = tf.stack([label_shape[0]])\n",
        "    max_num_labels_tns = tf.stack([label_shape[1]])\n",
        "\n",
        "    def range_less_than(old_input, current_input):\n",
        "        return tf.expand_dims(tf.range(tf.shape(old_input)[1]), 0) < tf.fill(\n",
        "            max_num_labels_tns, current_input\n",
        "        )\n",
        "\n",
        "    init = tf.cast(tf.fill([1, label_shape[1]], 0), tf.bool)\n",
        "    dense_mask = tf.compat.v1.scan(\n",
        "        range_less_than, label_lengths, initializer=init, parallel_iterations=1\n",
        "    )\n",
        "    dense_mask = dense_mask[:, 0, :]\n",
        "\n",
        "    label_array = tf.reshape(\n",
        "        tf.tile(tf.range(0, label_shape[1]), num_batches_tns), label_shape\n",
        "    )\n",
        "    label_ind = tf.compat.v1.boolean_mask(label_array, dense_mask)\n",
        "\n",
        "    batch_array = tf.transpose(\n",
        "        tf.reshape(\n",
        "            tf.tile(tf.range(0, label_shape[0]), max_num_labels_tns),\n",
        "            tf.reverse(label_shape, [0]),\n",
        "        )\n",
        "    )\n",
        "    batch_ind = tf.compat.v1.boolean_mask(batch_array, dense_mask)\n",
        "    indices = tf.transpose(\n",
        "        tf.reshape(tf.concat([batch_ind, label_ind], axis=0), [2, -1])\n",
        "    )\n",
        "\n",
        "    vals_sparse = tf.compat.v1.gather_nd(labels, indices)\n",
        "\n",
        "    return tf.SparseTensor(\n",
        "        tf.cast(indices, tf.int64), vals_sparse, tf.cast(label_shape, tf.int64)\n",
        "    )\n",
        "\n",
        "\n",
        "class CTCLayer(layers.Layer):\n",
        "    def __init__(self, name=None):\n",
        "        super().__init__(name=name)\n",
        "        self.loss_fn = ctc_batch_cost\n",
        "\n",
        "    def call(self, y_true, y_pred):\n",
        "        # Compute the training-time loss value and add it\n",
        "        # to the layer using `self.add_loss()`.\n",
        "        batch_len = tf.cast(tf.shape(y_true)[0], dtype=\"int64\")\n",
        "        input_length = tf.cast(tf.shape(y_pred)[1], dtype=\"int64\")\n",
        "        label_length = tf.cast(tf.shape(y_true)[1], dtype=\"int64\")\n",
        "\n",
        "        input_length = input_length * tf.ones(shape=(batch_len, 1), dtype=\"int64\")\n",
        "        label_length = label_length * tf.ones(shape=(batch_len, 1), dtype=\"int64\")\n",
        "\n",
        "        loss = self.loss_fn(y_true, y_pred, input_length, label_length)\n",
        "        self.add_loss(loss)\n",
        "\n",
        "        # At test time, just return the computed predictions\n",
        "        return y_pred\n",
        "\n",
        "\n",
        "def build_model():\n",
        "    # Inputs to the model\n",
        "    input_img = layers.Input(\n",
        "        shape=(img_width, img_height, 1), name=\"image\", dtype=\"float32\"\n",
        "    )\n",
        "    labels = layers.Input(name=\"label\", shape=(None,), dtype=\"float32\")\n",
        "\n",
        "    # First conv block\n",
        "    x = layers.Conv2D(\n",
        "        32,\n",
        "        (3, 3),\n",
        "        activation=\"relu\",\n",
        "        kernel_initializer=\"he_normal\",\n",
        "        padding=\"same\",\n",
        "        name=\"Conv1\",\n",
        "    )(input_img)\n",
        "    x = layers.MaxPooling2D((2, 2), name=\"pool1\")(x)\n",
        "\n",
        "    # Second conv block\n",
        "    x = layers.Conv2D(\n",
        "        64,\n",
        "        (3, 3),\n",
        "        activation=\"relu\",\n",
        "        kernel_initializer=\"he_normal\",\n",
        "        padding=\"same\",\n",
        "        name=\"Conv2\",\n",
        "    )(x)\n",
        "    x = layers.MaxPooling2D((2, 2), name=\"pool2\")(x)\n",
        "\n",
        "    # We have used two max pool with pool size and strides 2.\n",
        "    # Hence, downsampled feature maps are 4x smaller. The number of\n",
        "    # filters in the last layer is 64. Reshape accordingly before\n",
        "    # passing the output to the RNN part of the model\n",
        "    new_shape = ((img_width // 4), (img_height // 4) * 64)\n",
        "    x = layers.Reshape(target_shape=new_shape, name=\"reshape\")(x)\n",
        "    x = layers.Dense(64, activation=\"relu\", name=\"dense1\")(x)\n",
        "    x = layers.Dropout(0.2)(x)\n",
        "\n",
        "    # RNNs\n",
        "    x = layers.Bidirectional(layers.LSTM(128, return_sequences=True, dropout=0.25))(x)\n",
        "    x = layers.Bidirectional(layers.LSTM(64, return_sequences=True, dropout=0.25))(x)\n",
        "\n",
        "    # Output layer\n",
        "    x = layers.Dense(\n",
        "        len(char_to_num.get_vocabulary()) + 1, activation=\"softmax\", name=\"dense2\"\n",
        "    )(x)\n",
        "\n",
        "    # Add CTC layer for calculating CTC loss at each step\n",
        "    output = CTCLayer(name=\"ctc_loss\")(labels, x)\n",
        "\n",
        "    # Define the model\n",
        "    model = keras.models.Model(\n",
        "        inputs=[input_img, labels], outputs=output, name=\"ocr_model_v1\"\n",
        "    )\n",
        "    # Optimizer\n",
        "    opt = keras.optimizers.Adam()\n",
        "    # Compile the model and return\n",
        "    model.compile(optimizer=opt)\n",
        "    return model\n",
        "\n",
        "\n",
        "# Get the model\n",
        "model = build_model()\n",
        "model.summary()"
      ]
    },
    {
      "cell_type": "markdown",
      "metadata": {
        "id": "RvUs3Gje_fTx"
      },
      "source": [
        "## Training"
      ]
    },
    {
      "cell_type": "code",
      "execution_count": 55,
      "metadata": {
        "id": "JDRLCEdF_fTx",
        "colab": {
          "base_uri": "https://localhost:8080/"
        },
        "outputId": "23abd222-7a83-4d5b-efa1-c442e0004a58"
      },
      "outputs": [
        {
          "output_type": "stream",
          "name": "stdout",
          "text": [
            "Epoch 1/100\n",
            "567/567 [==============================] - 30s 37ms/step - loss: 17.8869 - val_loss: 17.2339\n",
            "Epoch 2/100\n",
            "567/567 [==============================] - 21s 37ms/step - loss: 16.9675 - val_loss: 16.8566\n",
            "Epoch 3/100\n",
            "567/567 [==============================] - 19s 34ms/step - loss: 16.3813 - val_loss: 15.5687\n",
            "Epoch 4/100\n",
            "567/567 [==============================] - 20s 35ms/step - loss: 15.0590 - val_loss: 14.4647\n",
            "Epoch 5/100\n",
            "567/567 [==============================] - 18s 32ms/step - loss: 14.1293 - val_loss: 13.5871\n",
            "Epoch 6/100\n",
            "567/567 [==============================] - 19s 34ms/step - loss: 13.2860 - val_loss: 12.6466\n",
            "Epoch 7/100\n",
            "567/567 [==============================] - 21s 37ms/step - loss: 12.3637 - val_loss: 11.6875\n",
            "Epoch 8/100\n",
            "567/567 [==============================] - 20s 35ms/step - loss: 11.2583 - val_loss: 10.1764\n",
            "Epoch 9/100\n",
            "567/567 [==============================] - 20s 34ms/step - loss: 10.0014 - val_loss: 8.9541\n",
            "Epoch 10/100\n",
            "567/567 [==============================] - 21s 36ms/step - loss: 8.7000 - val_loss: 6.9619\n",
            "Epoch 11/100\n",
            "567/567 [==============================] - 21s 37ms/step - loss: 6.9467 - val_loss: 5.6521\n",
            "Epoch 12/100\n",
            "567/567 [==============================] - 20s 36ms/step - loss: 5.8625 - val_loss: 4.8061\n",
            "Epoch 13/100\n",
            "567/567 [==============================] - 18s 31ms/step - loss: 5.1114 - val_loss: 4.0147\n",
            "Epoch 14/100\n",
            "567/567 [==============================] - 19s 34ms/step - loss: 4.4828 - val_loss: 3.5353\n",
            "Epoch 15/100\n",
            "567/567 [==============================] - 20s 35ms/step - loss: 4.0501 - val_loss: 3.2231\n",
            "Epoch 16/100\n",
            "567/567 [==============================] - 21s 37ms/step - loss: 3.6556 - val_loss: 2.7950\n",
            "Epoch 17/100\n",
            "567/567 [==============================] - 22s 38ms/step - loss: 3.3345 - val_loss: 2.5416\n",
            "Epoch 18/100\n",
            "567/567 [==============================] - 20s 35ms/step - loss: 3.0004 - val_loss: 2.3233\n",
            "Epoch 19/100\n",
            "567/567 [==============================] - 19s 34ms/step - loss: 2.7487 - val_loss: 2.1495\n",
            "Epoch 20/100\n",
            "567/567 [==============================] - 20s 35ms/step - loss: 2.5054 - val_loss: 2.1178\n",
            "Epoch 21/100\n",
            "567/567 [==============================] - 21s 37ms/step - loss: 2.2956 - val_loss: 1.8361\n",
            "Epoch 22/100\n",
            "567/567 [==============================] - 21s 37ms/step - loss: 2.2161 - val_loss: 1.7189\n",
            "Epoch 23/100\n",
            "567/567 [==============================] - 21s 37ms/step - loss: 2.0316 - val_loss: 1.5922\n",
            "Epoch 24/100\n",
            "567/567 [==============================] - 21s 36ms/step - loss: 1.9053 - val_loss: 1.5738\n",
            "Epoch 25/100\n",
            "567/567 [==============================] - 19s 33ms/step - loss: 1.7521 - val_loss: 1.4345\n",
            "Epoch 26/100\n",
            "567/567 [==============================] - 20s 34ms/step - loss: 1.7090 - val_loss: 1.3678\n",
            "Epoch 27/100\n",
            "567/567 [==============================] - 20s 35ms/step - loss: 1.5935 - val_loss: 1.3780\n",
            "Epoch 28/100\n",
            "567/567 [==============================] - 21s 37ms/step - loss: 1.5158 - val_loss: 1.3557\n",
            "Epoch 29/100\n",
            "567/567 [==============================] - 21s 37ms/step - loss: 1.5025 - val_loss: 1.2196\n",
            "Epoch 30/100\n",
            "567/567 [==============================] - 19s 33ms/step - loss: 1.3932 - val_loss: 1.2244\n",
            "Epoch 31/100\n",
            "567/567 [==============================] - 20s 36ms/step - loss: 1.2645 - val_loss: 1.3038\n",
            "Epoch 32/100\n",
            "567/567 [==============================] - 19s 34ms/step - loss: 1.3001 - val_loss: 1.1846\n",
            "Epoch 33/100\n",
            "567/567 [==============================] - 20s 35ms/step - loss: 1.2270 - val_loss: 1.0981\n",
            "Epoch 34/100\n",
            "567/567 [==============================] - 19s 33ms/step - loss: 1.1690 - val_loss: 1.0853\n",
            "Epoch 35/100\n",
            "567/567 [==============================] - 20s 35ms/step - loss: 1.0654 - val_loss: 1.0569\n",
            "Epoch 36/100\n",
            "567/567 [==============================] - 21s 37ms/step - loss: 1.0683 - val_loss: 0.9929\n",
            "Epoch 37/100\n",
            "567/567 [==============================] - 19s 33ms/step - loss: 1.0196 - val_loss: 0.9874\n",
            "Epoch 38/100\n",
            "567/567 [==============================] - 20s 35ms/step - loss: 0.9714 - val_loss: 0.9332\n",
            "Epoch 39/100\n",
            "567/567 [==============================] - 21s 37ms/step - loss: 1.0163 - val_loss: 0.9207\n",
            "Epoch 40/100\n",
            "567/567 [==============================] - 21s 38ms/step - loss: 0.9006 - val_loss: 0.9119\n",
            "Epoch 41/100\n",
            "567/567 [==============================] - 18s 33ms/step - loss: 0.9743 - val_loss: 0.9484\n",
            "Epoch 42/100\n",
            "567/567 [==============================] - 21s 37ms/step - loss: 0.8388 - val_loss: 0.8758\n",
            "Epoch 43/100\n",
            "567/567 [==============================] - 20s 34ms/step - loss: 0.8190 - val_loss: 0.8478\n",
            "Epoch 44/100\n",
            "567/567 [==============================] - 21s 38ms/step - loss: 0.8237 - val_loss: 0.8656\n",
            "Epoch 45/100\n",
            "567/567 [==============================] - 21s 37ms/step - loss: 0.8621 - val_loss: 1.0004\n",
            "Epoch 46/100\n",
            "567/567 [==============================] - 19s 34ms/step - loss: 0.8633 - val_loss: 0.8009\n",
            "Epoch 47/100\n",
            "567/567 [==============================] - 19s 33ms/step - loss: 0.7469 - val_loss: 0.7394\n",
            "Epoch 48/100\n",
            "567/567 [==============================] - 20s 35ms/step - loss: 0.7634 - val_loss: 0.8453\n",
            "Epoch 49/100\n",
            "567/567 [==============================] - 22s 39ms/step - loss: 0.7125 - val_loss: 0.7088\n",
            "Epoch 50/100\n",
            "567/567 [==============================] - 21s 37ms/step - loss: 0.6701 - val_loss: 0.7016\n",
            "Epoch 51/100\n",
            "567/567 [==============================] - 21s 38ms/step - loss: 0.7190 - val_loss: 0.7053\n",
            "Epoch 52/100\n",
            "567/567 [==============================] - 18s 32ms/step - loss: 0.6388 - val_loss: 0.7299\n",
            "Epoch 53/100\n",
            "567/567 [==============================] - 21s 38ms/step - loss: 0.7007 - val_loss: 0.7098\n",
            "Epoch 54/100\n",
            "567/567 [==============================] - 20s 34ms/step - loss: 0.6655 - val_loss: 0.7224\n",
            "Epoch 55/100\n",
            "567/567 [==============================] - 20s 35ms/step - loss: 0.6580 - val_loss: 0.7128\n",
            "Epoch 56/100\n",
            "567/567 [==============================] - 19s 33ms/step - loss: 0.6548 - val_loss: 0.8176\n",
            "Epoch 57/100\n",
            "567/567 [==============================] - 20s 35ms/step - loss: 0.6177 - val_loss: 0.5901\n",
            "Epoch 58/100\n",
            "567/567 [==============================] - 21s 37ms/step - loss: 0.5992 - val_loss: 0.7732\n",
            "Epoch 59/100\n",
            "567/567 [==============================] - 20s 35ms/step - loss: 0.5630 - val_loss: 0.6718\n",
            "Epoch 60/100\n",
            "567/567 [==============================] - 20s 35ms/step - loss: 0.5612 - val_loss: 0.7359\n",
            "Epoch 61/100\n",
            "567/567 [==============================] - 21s 37ms/step - loss: 0.5515 - val_loss: 0.6449\n",
            "Epoch 62/100\n",
            "567/567 [==============================] - 21s 37ms/step - loss: 0.5179 - val_loss: 0.6261\n",
            "Epoch 63/100\n",
            "567/567 [==============================] - 18s 32ms/step - loss: 0.5529 - val_loss: 0.6355\n",
            "Epoch 64/100\n",
            "567/567 [==============================] - 21s 37ms/step - loss: 0.5772 - val_loss: 0.6518\n",
            "Epoch 65/100\n",
            "567/567 [==============================] - 20s 35ms/step - loss: 0.5623 - val_loss: 0.6641\n",
            "Epoch 66/100\n",
            "567/567 [==============================] - 21s 37ms/step - loss: 0.6039 - val_loss: 0.6474\n",
            "Epoch 67/100\n",
            "567/567 [==============================] - 21s 38ms/step - loss: 0.5021 - val_loss: 0.5611\n",
            "Epoch 68/100\n",
            "567/567 [==============================] - 20s 34ms/step - loss: 0.4817 - val_loss: 0.6287\n",
            "Epoch 69/100\n",
            "567/567 [==============================] - 20s 35ms/step - loss: 0.4933 - val_loss: 0.6248\n",
            "Epoch 70/100\n",
            "567/567 [==============================] - 20s 35ms/step - loss: 0.5185 - val_loss: 0.6025\n",
            "Epoch 71/100\n",
            "567/567 [==============================] - 21s 37ms/step - loss: 0.4647 - val_loss: 0.6314\n",
            "Epoch 72/100\n",
            "567/567 [==============================] - 21s 36ms/step - loss: 0.4968 - val_loss: 0.7907\n",
            "Epoch 73/100\n",
            "567/567 [==============================] - 22s 38ms/step - loss: 0.5104 - val_loss: 0.5643\n",
            "Epoch 74/100\n",
            "567/567 [==============================] - 22s 39ms/step - loss: 0.4756 - val_loss: 0.6695\n",
            "Epoch 75/100\n",
            "567/567 [==============================] - 20s 36ms/step - loss: 0.4359 - val_loss: 0.5654\n",
            "Epoch 76/100\n",
            "567/567 [==============================] - 20s 35ms/step - loss: 0.4096 - val_loss: 0.5791\n",
            "Epoch 77/100\n",
            "567/567 [==============================] - 20s 35ms/step - loss: 0.4066 - val_loss: 0.5302\n",
            "Epoch 78/100\n",
            "567/567 [==============================] - 21s 38ms/step - loss: 0.4620 - val_loss: 0.6280\n",
            "Epoch 79/100\n",
            "567/567 [==============================] - 21s 38ms/step - loss: 0.4506 - val_loss: 0.6205\n",
            "Epoch 80/100\n",
            "567/567 [==============================] - 22s 38ms/step - loss: 0.5239 - val_loss: 0.5819\n",
            "Epoch 81/100\n",
            "567/567 [==============================] - 21s 36ms/step - loss: 0.4289 - val_loss: 0.5638\n",
            "Epoch 82/100\n",
            "567/567 [==============================] - 19s 33ms/step - loss: 0.4144 - val_loss: 0.5525\n",
            "Epoch 83/100\n",
            "567/567 [==============================] - 19s 33ms/step - loss: 0.4030 - val_loss: 0.6300\n",
            "Epoch 84/100\n",
            "567/567 [==============================] - 20s 35ms/step - loss: 0.4498 - val_loss: 0.6010\n",
            "Epoch 85/100\n",
            "567/567 [==============================] - 21s 38ms/step - loss: 0.4299 - val_loss: 0.5555\n",
            "Epoch 86/100\n",
            "567/567 [==============================] - 21s 37ms/step - loss: 0.3826 - val_loss: 0.5720\n",
            "Epoch 87/100\n",
            "567/567 [==============================] - 21s 37ms/step - loss: 0.4292 - val_loss: 0.4802\n",
            "Epoch 88/100\n",
            "567/567 [==============================] - 21s 38ms/step - loss: 0.4806 - val_loss: 0.6963\n",
            "Epoch 89/100\n",
            "567/567 [==============================] - 18s 31ms/step - loss: 0.3468 - val_loss: 0.5944\n",
            "Epoch 90/100\n",
            "567/567 [==============================] - 22s 38ms/step - loss: 0.3581 - val_loss: 0.4883\n",
            "Epoch 91/100\n",
            "567/567 [==============================] - 20s 35ms/step - loss: 0.4055 - val_loss: 0.5799\n",
            "Epoch 92/100\n",
            "567/567 [==============================] - 21s 37ms/step - loss: 0.3541 - val_loss: 0.5267\n",
            "Epoch 93/100\n",
            "567/567 [==============================] - 22s 38ms/step - loss: 0.3701 - val_loss: 0.5820\n",
            "Epoch 94/100\n",
            "567/567 [==============================] - 20s 36ms/step - loss: 0.3557 - val_loss: 0.6915\n",
            "Epoch 95/100\n",
            "567/567 [==============================] - 19s 33ms/step - loss: 0.3585 - val_loss: 0.4725\n",
            "Epoch 96/100\n",
            "567/567 [==============================] - 20s 35ms/step - loss: 0.3720 - val_loss: 0.5888\n",
            "Epoch 97/100\n",
            "567/567 [==============================] - 21s 37ms/step - loss: 0.3807 - val_loss: 0.5144\n",
            "Epoch 98/100\n",
            "567/567 [==============================] - 19s 34ms/step - loss: 0.3971 - val_loss: 0.5111\n",
            "Epoch 99/100\n",
            "567/567 [==============================] - 19s 34ms/step - loss: 0.3464 - val_loss: 0.5630\n",
            "Epoch 100/100\n",
            "567/567 [==============================] - 20s 35ms/step - loss: 0.3557 - val_loss: 0.4957\n"
          ]
        }
      ],
      "source": [
        "\n",
        "# TODO restore epoch count.\n",
        "epochs = 100\n",
        "early_stopping_patience = 10\n",
        "# Add early stopping\n",
        "early_stopping = keras.callbacks.EarlyStopping(\n",
        "    monitor=\"val_loss\", patience=early_stopping_patience, restore_best_weights=True\n",
        ")\n",
        "\n",
        "# Train the model\n",
        "history = model.fit(\n",
        "    train_dataset,\n",
        "    validation_data=validation_dataset,\n",
        "    epochs=epochs,\n",
        "    callbacks=[early_stopping],\n",
        ")\n"
      ]
    },
    {
      "cell_type": "markdown",
      "metadata": {
        "id": "DkWkKPVh_fTy"
      },
      "source": [
        "## Inference\n",
        "\n",
        "You can use the trained model hosted on [Hugging Face Hub](https://huggingface.co/keras-io/ocr-for-captcha)\n",
        "and try the demo on [Hugging Face Spaces](https://huggingface.co/spaces/keras-io/ocr-for-captcha)."
      ]
    },
    {
      "cell_type": "code",
      "execution_count": 56,
      "metadata": {
        "id": "R4lWcgc__fTy",
        "colab": {
          "base_uri": "https://localhost:8080/",
          "height": 995
        },
        "outputId": "bfaa34d1-855b-48af-f1f2-8419e2d4dc3f"
      },
      "outputs": [
        {
          "output_type": "stream",
          "name": "stdout",
          "text": [
            "Model: \"model_1\"\n",
            "_________________________________________________________________\n",
            " Layer (type)                Output Shape              Param #   \n",
            "=================================================================\n",
            " image (InputLayer)          [(None, 200, 50, 1)]      0         \n",
            "                                                                 \n",
            " Conv1 (Conv2D)              (None, 200, 50, 32)       320       \n",
            "                                                                 \n",
            " pool1 (MaxPooling2D)        (None, 100, 25, 32)       0         \n",
            "                                                                 \n",
            " Conv2 (Conv2D)              (None, 100, 25, 64)       18496     \n",
            "                                                                 \n",
            " pool2 (MaxPooling2D)        (None, 50, 12, 64)        0         \n",
            "                                                                 \n",
            " reshape (Reshape)           (None, 50, 768)           0         \n",
            "                                                                 \n",
            " dense1 (Dense)              (None, 50, 64)            49216     \n",
            "                                                                 \n",
            " dropout_3 (Dropout)         (None, 50, 64)            0         \n",
            "                                                                 \n",
            " bidirectional_6 (Bidirecti  (None, 50, 256)           197632    \n",
            " onal)                                                           \n",
            "                                                                 \n",
            " bidirectional_7 (Bidirecti  (None, 50, 128)           164352    \n",
            " onal)                                                           \n",
            "                                                                 \n",
            " dense2 (Dense)              (None, 50, 25)            3225      \n",
            "                                                                 \n",
            "=================================================================\n",
            "Total params: 433241 (1.65 MB)\n",
            "Trainable params: 433241 (1.65 MB)\n",
            "Non-trainable params: 0 (0.00 Byte)\n",
            "_________________________________________________________________\n",
            "1/1 [==============================] - 1s 1s/step\n"
          ]
        },
        {
          "output_type": "display_data",
          "data": {
            "text/plain": [
              "<Figure size 1500x500 with 16 Axes>"
            ],
            "image/png": "[encoded data removed]"
          },
          "metadata": {}
        }
      ],
      "source": [
        "\n",
        "def ctc_decode(y_pred, input_length, greedy=True, beam_width=100, top_paths=1):\n",
        "    input_shape = tf.shape(y_pred)\n",
        "    num_samples, num_steps = input_shape[0], input_shape[1]\n",
        "    y_pred = tf.math.log(tf.transpose(y_pred, perm=[1, 0, 2]) + keras.backend.epsilon())\n",
        "    input_length = tf.cast(input_length, tf.int32)\n",
        "\n",
        "    if greedy:\n",
        "        (decoded, log_prob) = tf.nn.ctc_greedy_decoder(\n",
        "            inputs=y_pred, sequence_length=input_length\n",
        "        )\n",
        "    else:\n",
        "        (decoded, log_prob) = tf.compat.v1.nn.ctc_beam_search_decoder(\n",
        "            inputs=y_pred,\n",
        "            sequence_length=input_length,\n",
        "            beam_width=beam_width,\n",
        "            top_paths=top_paths,\n",
        "        )\n",
        "    decoded_dense = []\n",
        "    for st in decoded:\n",
        "        st = tf.SparseTensor(st.indices, st.values, (num_samples, num_steps))\n",
        "        decoded_dense.append(tf.sparse.to_dense(sp_input=st, default_value=-1))\n",
        "    return (decoded_dense, log_prob)\n",
        "\n",
        "\n",
        "# Get the prediction model by extracting layers till the output layer\n",
        "prediction_model = keras.models.Model(\n",
        "    model.input[0], model.get_layer(name=\"dense2\").output\n",
        ")\n",
        "prediction_model.summary()\n",
        "\n",
        "\n",
        "# A utility function to decode the output of the network\n",
        "def decode_batch_predictions(pred):\n",
        "    input_len = np.ones(pred.shape[0]) * pred.shape[1]\n",
        "    # Use greedy search. For complex tasks, you can use beam search\n",
        "    results = ctc_decode(pred, input_length=input_len, greedy=True)[0][0][\n",
        "        :, :max_length\n",
        "    ]\n",
        "    # Iterate over the results and get back the text\n",
        "    output_text = []\n",
        "    for res in results:\n",
        "        res = tf.strings.reduce_join(num_to_char(res)).numpy().decode(\"utf-8\")\n",
        "        output_text.append(res)\n",
        "    return output_text\n",
        "\n",
        "\n",
        "#  Let's check results on some validation samples\n",
        "for batch in validation_dataset.take(1):\n",
        "    batch_images = batch[\"image\"]\n",
        "    batch_labels = batch[\"label\"]\n",
        "\n",
        "    preds = prediction_model.predict(batch_images)\n",
        "    pred_texts = decode_batch_predictions(preds)\n",
        "\n",
        "    orig_texts = []\n",
        "    for label in batch_labels:\n",
        "        label = tf.strings.reduce_join(num_to_char(label)).numpy().decode(\"utf-8\")\n",
        "        orig_texts.append(label)\n",
        "\n",
        "    _, ax = plt.subplots(4, 4, figsize=(15, 5))\n",
        "    for i in range(len(pred_texts)):\n",
        "        img = (batch_images[i, :, :, 0] * 255).numpy().astype(np.uint8)\n",
        "        img = img.T\n",
        "        title = f\"Prediction: {pred_texts[i]}\"\n",
        "        ax[i // 4, i % 4].imshow(Image.open(x_valid[i]))\n",
        "        ax[i // 4, i % 4].set_title(title)\n",
        "        ax[i // 4, i % 4].axis(\"off\")\n",
        "plt.show()"
      ]
    },
    {
      "cell_type": "code",
      "source": [
        "# print accuracy\n",
        "correct = 0\n",
        "total = 0\n",
        "for batch in validation_dataset:\n",
        "    batch_images = batch[\"image\"]\n",
        "    batch_labels = batch[\"label\"]\n",
        "\n",
        "    preds = prediction_model.predict(batch_images)\n",
        "    pred_texts = decode_batch_predictions(preds)\n",
        "\n",
        "    orig_texts = []\n",
        "    for label in batch_labels:\n",
        "        label = tf.strings.reduce_join(num_to_char(label)).numpy().decode(\"utf-8\")\n",
        "        orig_texts.append(label)\n",
        "\n",
        "    for i in range(len(pred_texts)):\n",
        "        total += 1\n",
        "        if pred_texts[i] == orig_texts[i]:\n",
        "            correct += 1\n",
        "\n",
        "print(\"Accuracy: \", correct / total)"
      ],
      "metadata": {
        "id": "Kc5vTRE_2MoO",
        "colab": {
          "base_uri": "https://localhost:8080/"
        },
        "outputId": "9ce67e51-f58e-4eed-e735-0c42e3932da0"
      },
      "execution_count": 57,
      "outputs": [
        {
          "output_type": "stream",
          "name": "stdout",
          "text": [
            "1/1 [==============================] - 0s 34ms/step\n",
            "1/1 [==============================] - 0s 39ms/step\n",
            "1/1 [==============================] - 0s 37ms/step\n",
            "1/1 [==============================] - 0s 34ms/step\n",
            "1/1 [==============================] - 0s 36ms/step\n",
            "1/1 [==============================] - 0s 35ms/step\n",
            "1/1 [==============================] - 0s 35ms/step\n",
            "1/1 [==============================] - 0s 39ms/step\n",
            "1/1 [==============================] - 0s 40ms/step\n",
            "1/1 [==============================] - 0s 37ms/step\n",
            "1/1 [==============================] - 0s 52ms/step\n",
            "1/1 [==============================] - 0s 34ms/step\n",
            "1/1 [==============================] - 0s 40ms/step\n",
            "1/1 [==============================] - 0s 40ms/step\n",
            "1/1 [==============================] - 0s 64ms/step\n",
            "1/1 [==============================] - 0s 32ms/step\n",
            "1/1 [==============================] - 0s 38ms/step\n",
            "1/1 [==============================] - 0s 32ms/step\n",
            "1/1 [==============================] - 0s 24ms/step\n",
            "1/1 [==============================] - 0s 25ms/step\n",
            "1/1 [==============================] - 0s 26ms/step\n",
            "1/1 [==============================] - 0s 25ms/step\n",
            "1/1 [==============================] - 0s 26ms/step\n",
            "1/1 [==============================] - 0s 24ms/step\n",
            "1/1 [==============================] - 0s 26ms/step\n",
            "1/1 [==============================] - 0s 24ms/step\n",
            "1/1 [==============================] - 0s 25ms/step\n",
            "1/1 [==============================] - 0s 26ms/step\n",
            "1/1 [==============================] - 0s 25ms/step\n",
            "1/1 [==============================] - 0s 24ms/step\n",
            "1/1 [==============================] - 0s 25ms/step\n",
            "1/1 [==============================] - 0s 24ms/step\n",
            "1/1 [==============================] - 0s 25ms/step\n",
            "1/1 [==============================] - 0s 25ms/step\n",
            "1/1 [==============================] - 0s 25ms/step\n",
            "1/1 [==============================] - 0s 33ms/step\n",
            "1/1 [==============================] - 0s 26ms/step\n",
            "1/1 [==============================] - 0s 25ms/step\n",
            "1/1 [==============================] - 0s 24ms/step\n",
            "1/1 [==============================] - 0s 24ms/step\n",
            "1/1 [==============================] - 0s 25ms/step\n",
            "1/1 [==============================] - 0s 25ms/step\n",
            "1/1 [==============================] - 0s 25ms/step\n",
            "1/1 [==============================] - 0s 26ms/step\n",
            "1/1 [==============================] - 0s 31ms/step\n",
            "1/1 [==============================] - 0s 25ms/step\n",
            "1/1 [==============================] - 0s 25ms/step\n",
            "1/1 [==============================] - 0s 25ms/step\n",
            "1/1 [==============================] - 0s 25ms/step\n",
            "1/1 [==============================] - 0s 24ms/step\n",
            "1/1 [==============================] - 0s 25ms/step\n",
            "1/1 [==============================] - 0s 25ms/step\n",
            "1/1 [==============================] - 0s 27ms/step\n",
            "1/1 [==============================] - 0s 26ms/step\n",
            "1/1 [==============================] - 0s 24ms/step\n",
            "1/1 [==============================] - 0s 24ms/step\n",
            "1/1 [==============================] - 0s 24ms/step\n",
            "1/1 [==============================] - 0s 24ms/step\n",
            "1/1 [==============================] - 0s 24ms/step\n",
            "1/1 [==============================] - 0s 25ms/step\n",
            "1/1 [==============================] - 0s 24ms/step\n",
            "1/1 [==============================] - 0s 24ms/step\n",
            "1/1 [==============================] - 0s 25ms/step\n",
            "Accuracy:  0.8878968253968254\n"
          ]
        }
      ]
    },
    {
      "cell_type": "code",
      "source": [
        "# Save the entire model as a `.keras` zip archive.\n",
        "model.save('my_model.keras')\n",
        "model.save('my_model.h5')"
      ],
      "metadata": {
        "id": "F5_UeqnV2S3z"
      },
      "execution_count": 58,
      "outputs": []
    }
  ],
  "metadata": {
    "accelerator": "GPU",
    "colab": {
      "provenance": []
    },
    "kernelspec": {
      "display_name": "Python 3",
      "language": "python",
      "name": "python3"
    },
    "language_info": {
      "codemirror_mode": {
        "name": "ipython",
        "version": 3
      },
      "file_extension": ".py",
      "mimetype": "text/x-python",
      "name": "python",
      "nbconvert_exporter": "python",
      "pygments_lexer": "ipython3",
      "version": "3.7.0"
    }
  },
  "nbformat": 4,
  "nbformat_minor": 0
}