{
 "cells": [
  {
   "cell_type": "code",
   "execution_count": 1,
   "metadata": {},
   "outputs": [],
   "source": [
    "import os\n",
    "import pandas as pd\n",
    "\n",
    "import shutil\n",
    "from colorama import Fore, Style\n"
   ]
  },
  {
   "cell_type": "code",
   "execution_count": 2,
   "metadata": {},
   "outputs": [],
   "source": [
    "samples_destination_folder = 'data/samples'\n",
    "captcha_name = 'Captcha_Name'\n",
    "captcha_answer = 'Captcha_Answer'"
   ]
  },
  {
   "cell_type": "code",
   "execution_count": 3,
   "metadata": {},
   "outputs": [],
   "source": [
    "# create samples folder if not exists\n",
    "if not os.path.exists(samples_destination_folder):\n",
    "    os.makedirs(samples_destination_folder)\n",
    "else:\n",
    "    # remove all files from samples folder\n",
    "    for file in os.listdir(samples_destination_folder):\n",
    "        os.remove(os.path.join(samples_destination_folder, file))"
   ]
  },
  {
   "cell_type": "code",
   "execution_count": 4,
   "metadata": {},
   "outputs": [],
   "source": [
    "def create_file_names_with_labels(csv_file_with_labels, folder_path):\n",
    "    \n",
    "    # Read the CSV file containing the labels\n",
    "    labels_df = pd.read_csv(csv_file_with_labels)\n",
    "    \n",
    "    # Get all the rows with column \"Captcha_Answer\" not empty and  create a new dataframe\n",
    "    labels_df = labels_df[labels_df[captcha_answer].notnull()]\n",
    "    # labels_df = labels_df.head(samples_count_to_label + 1)\n",
    "    \n",
    "    file_names = os.listdir(folder_path)\n",
    "    file_names = [file for file in file_names if file.endswith('.png')]\n",
    "    \n",
    "    label_not_found_count = 0\n",
    "    label_with_error_count = 0\n",
    "    # Loop through all the file names in the folder\n",
    "    for file_name in file_names:\n",
    "        # check if file not already renamed\n",
    "        if file_name.find('_') != -1:\n",
    "            continue\n",
    "        \n",
    "        # Search for the file name in the \"Captcha_Name\" column\n",
    "        try:\n",
    "            label = labels_df.loc[labels_df[captcha_name] == file_name, captcha_answer].values[0]\n",
    "        except:\n",
    "            label = None\n",
    "        \n",
    "        # Check if label is not empty\n",
    "        if (label == None):\n",
    "            label_not_found_count += 1\n",
    "            continue\n",
    "        #Check incorrect label if length is not 5\n",
    "        if (label != None) and (len(label) != 5):\n",
    "            label_with_error_count += 1\n",
    "            print(Fore.RED + 'Incorrect label:', label, 'File:', file_name, Style.RESET_ALL)\n",
    "            continue\n",
    "        else:\n",
    "            # remove the start and end white spaces from the label anc convert to lower case\n",
    "            label = label.strip().lower()\n",
    "            #print(Fore.GREEN + 'Label:', label, 'File:', file_name, Style.RESET_ALL)\n",
    "            # Rename the file with the appended label\n",
    "            new_file_name = file_name.replace('.png', '_' + str(label) + '.png')\n",
    "            \n",
    "            # Copy the file to the samples folder with new name\n",
    "            shutil.copy(os.path.join(folder_path, file_name), os.path.join(samples_destination_folder, new_file_name))\n",
    "    \n",
    "    # Decorate the print statement with colors\n",
    "    print(Fore.RED + 'Total Labels with errors:', label_with_error_count, Style.RESET_ALL)\n",
    "    print(Fore.YELLOW + 'Total Labels not found:', label_not_found_count, Style.RESET_ALL)\n",
    "    \n"
   ]
  },
  {
   "cell_type": "code",
   "execution_count": 5,
   "metadata": {},
   "outputs": [
    {
     "name": "stdout",
     "output_type": "stream",
     "text": [
      "\u001b[34mFolder: rsce_sample_captcha_batches/_start_1000 CSV: google-sheets/_start_1000/file_names_start_1000_labels.csv \u001b[0m\n",
      "\u001b[31mTotal Labels with errors: 0 \u001b[0m\n",
      "\u001b[33mTotal Labels not found: 0 \u001b[0m\n",
      "\u001b[34mFolder: rsce_sample_captcha_batches/_start_2000 CSV: google-sheets/_start_2000/file_names_start_2000_labels.csv \u001b[0m\n",
      "\u001b[31mTotal Labels with errors: 0 \u001b[0m\n",
      "\u001b[33mTotal Labels not found: 0 \u001b[0m\n",
      "\u001b[34mFolder: rsce_sample_captcha_batches/_start_3000 CSV: google-sheets/_start_3000/file_names_start_3000_labels.csv \u001b[0m\n",
      "\u001b[31mTotal Labels with errors: 0 \u001b[0m\n",
      "\u001b[33mTotal Labels not found: 0 \u001b[0m\n",
      "\u001b[34mFolder: rsce_sample_captcha_batches/_start_4000 CSV: google-sheets/_start_4000/file_names_start_4000_labels.csv \u001b[0m\n",
      "\u001b[31mTotal Labels with errors: 0 \u001b[0m\n",
      "\u001b[33mTotal Labels not found: 0 \u001b[0m\n",
      "\u001b[34mFolder: rsce_sample_captcha_batches/_start_5000 CSV: google-sheets/_start_5000/file_names_start_5000_labels.csv \u001b[0m\n",
      "\u001b[31mTotal Labels with errors: 0 \u001b[0m\n",
      "\u001b[33mTotal Labels not found: 0 \u001b[0m\n",
      "\u001b[34mFolder: rsce_sample_captcha_batches/_start_6000 CSV: google-sheets/_start_6000/file_names_start_6000_labels.csv \u001b[0m\n",
      "\u001b[31mTotal Labels with errors: 0 \u001b[0m\n",
      "\u001b[33mTotal Labels not found: 0 \u001b[0m\n",
      "\u001b[34mFolder: rsce_sample_captcha_batches_2/_start_1000 CSV: google-sheets-2/_start_1000/file_names_2_start_1000_labels.csv \u001b[0m\n",
      "\u001b[31mTotal Labels with errors: 0 \u001b[0m\n",
      "\u001b[33mTotal Labels not found: 0 \u001b[0m\n",
      "\u001b[34mFolder: rsce_sample_captcha_batches_2/_start_2000 CSV: google-sheets-2/_start_2000/file_names_2_start_2000_labels.csv \u001b[0m\n",
      "\u001b[31mTotal Labels with errors: 0 \u001b[0m\n",
      "\u001b[33mTotal Labels not found: 0 \u001b[0m\n",
      "\u001b[34mFolder: rsce_sample_captcha_batches_2/_start_3000 CSV: google-sheets-2/_start_3000/file_names_2_start_3000_labels.csv \u001b[0m\n",
      "\u001b[31mTotal Labels with errors: 0 \u001b[0m\n",
      "\u001b[33mTotal Labels not found: 0 \u001b[0m\n"
     ]
    }
   ],
   "source": [
    "folder_and_csv_labels = [\n",
    "    ('rsce_sample_captcha_batches/_start_1000', 'google-sheets/_start_1000/file_names_start_1000_labels.csv'),\n",
    "    ('rsce_sample_captcha_batches/_start_2000', 'google-sheets/_start_2000/file_names_start_2000_labels.csv'),\n",
    "    ('rsce_sample_captcha_batches/_start_3000', 'google-sheets/_start_3000/file_names_start_3000_labels.csv'),\n",
    "    ('rsce_sample_captcha_batches/_start_4000', 'google-sheets/_start_4000/file_names_start_4000_labels.csv'),\n",
    "    ('rsce_sample_captcha_batches/_start_5000', 'google-sheets/_start_5000/file_names_start_5000_labels.csv'),\n",
    "    ('rsce_sample_captcha_batches/_start_6000', 'google-sheets/_start_6000/file_names_start_6000_labels.csv'),\n",
    "    ('rsce_sample_captcha_batches_2/_start_1000', 'google-sheets-2/_start_1000/file_names_2_start_1000_labels.csv'),\n",
    "    ('rsce_sample_captcha_batches_2/_start_2000', 'google-sheets-2/_start_2000/file_names_2_start_2000_labels.csv'),\n",
    "    ('rsce_sample_captcha_batches_2/_start_3000', 'google-sheets-2/_start_3000/file_names_2_start_3000_labels.csv'),\n",
    "    ]\n",
    "for folder_path, csv_file_with_labels in folder_and_csv_labels:\n",
    "    print(Fore.BLUE + 'Folder:', folder_path, 'CSV:', csv_file_with_labels, Style.RESET_ALL)\n",
    "    create_file_names_with_labels(csv_file_with_labels, folder_path)"
   ]
  },
  {
   "cell_type": "code",
   "execution_count": 6,
   "metadata": {},
   "outputs": [
    {
     "data": {
      "text/plain": [
       "'d:\\\\Sample_Captcha_Data\\\\data-samples.zip'"
      ]
     },
     "execution_count": 6,
     "metadata": {},
     "output_type": "execute_result"
    }
   ],
   "source": [
    "# create zip file of data/samples folder with name samples.zip and save it in root directory\n",
    "zip_file_name = 'data-samples'\n",
    "# first delete if samples.zip already exists\n",
    "if os.path.exists(zip_file_name + '.zip'):\n",
    "    os.remove(zip_file_name + '.zip')\n",
    "shutil.make_archive(zip_file_name, 'zip', samples_destination_folder)"
   ]
  }
 ],
 "metadata": {
  "kernelspec": {
   "display_name": "base",
   "language": "python",
   "name": "python3"
  },
  "language_info": {
   "codemirror_mode": {
    "name": "ipython",
    "version": 3
   },
   "file_extension": ".py",
   "mimetype": "text/x-python",
   "name": "python",
   "nbconvert_exporter": "python",
   "pygments_lexer": "ipython3",
   "version": "3.11.7"
  }
 },
 "nbformat": 4,
 "nbformat_minor": 2
}
