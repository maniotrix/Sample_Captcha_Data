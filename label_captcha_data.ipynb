{
 "cells": [
  {
   "cell_type": "code",
   "execution_count": 1,
   "metadata": {},
   "outputs": [],
   "source": [
    "import os\n",
    "import pandas as pd\n",
    "\n",
    "import shutil\n",
    "from colorama import Fore, Style\n"
   ]
  },
  {
   "cell_type": "code",
   "execution_count": 2,
   "metadata": {},
   "outputs": [],
   "source": [
    "folder_path = 'rsce_sample_captcha_batches/_start_1000'\n",
    "samples_destination_folder = 'data/samples'\n",
    "csv_file_with_labels = 'google-sheets/_start_1000/file_names_start_1000_labels.csv'\n",
    "captcha_name = 'Captcha_Name'\n",
    "captcha_answer = 'Captcha_Answer'"
   ]
  },
  {
   "cell_type": "code",
   "execution_count": 3,
   "metadata": {},
   "outputs": [],
   "source": [
    "# create samples folder if not exists\n",
    "if not os.path.exists(samples_destination_folder):\n",
    "    os.makedirs(samples_destination_folder)\n",
    "else:\n",
    "    # remove all files from samples folder\n",
    "    for file in os.listdir(samples_destination_folder):\n",
    "        os.remove(os.path.join(samples_destination_folder, file))"
   ]
  },
  {
   "cell_type": "code",
   "execution_count": 4,
   "metadata": {},
   "outputs": [],
   "source": [
    "\n",
    "# Read the CSV file containing the labels\n",
    "labels_df = pd.read_csv(csv_file_with_labels)\n",
    "\n",
    "# Get all the rows with column \"Captcha_Answer\" not empty and  create a new dataframe\n",
    "labels_df = labels_df[labels_df[captcha_answer].notnull()]\n",
    "# labels_df = labels_df.head(samples_count_to_label + 1)\n"
   ]
  },
  {
   "cell_type": "code",
   "execution_count": 5,
   "metadata": {},
   "outputs": [
    {
     "data": {
      "text/plain": [
       "(200, 4)"
      ]
     },
     "execution_count": 5,
     "metadata": {},
     "output_type": "execute_result"
    }
   ],
   "source": [
    "labels_df.shape"
   ]
  },
  {
   "cell_type": "code",
   "execution_count": 6,
   "metadata": {},
   "outputs": [
    {
     "data": {
      "text/html": [
       "<div>\n",
       "<style scoped>\n",
       "    .dataframe tbody tr th:only-of-type {\n",
       "        vertical-align: middle;\n",
       "    }\n",
       "\n",
       "    .dataframe tbody tr th {\n",
       "        vertical-align: top;\n",
       "    }\n",
       "\n",
       "    .dataframe thead th {\n",
       "        text-align: right;\n",
       "    }\n",
       "</style>\n",
       "<table border=\"1\" class=\"dataframe\">\n",
       "  <thead>\n",
       "    <tr style=\"text-align: right;\">\n",
       "      <th></th>\n",
       "      <th>Captcha_Name</th>\n",
       "      <th>Captcha_Url</th>\n",
       "      <th>Captch_Image_View</th>\n",
       "      <th>Captcha_Answer</th>\n",
       "    </tr>\n",
       "  </thead>\n",
       "  <tbody>\n",
       "    <tr>\n",
       "      <th>0</th>\n",
       "      <td>sleep1706434441843.png</td>\n",
       "      <td>https://raw.githubusercontent.com/maniotrix/Sa...</td>\n",
       "      <td>NaN</td>\n",
       "      <td>gn67b</td>\n",
       "    </tr>\n",
       "    <tr>\n",
       "      <th>1</th>\n",
       "      <td>sleep1706434457613.png</td>\n",
       "      <td>https://raw.githubusercontent.com/maniotrix/Sa...</td>\n",
       "      <td>NaN</td>\n",
       "      <td>c5dx7</td>\n",
       "    </tr>\n",
       "    <tr>\n",
       "      <th>2</th>\n",
       "      <td>sleep1706434476531.png</td>\n",
       "      <td>https://raw.githubusercontent.com/maniotrix/Sa...</td>\n",
       "      <td>NaN</td>\n",
       "      <td>b76fk</td>\n",
       "    </tr>\n",
       "    <tr>\n",
       "      <th>3</th>\n",
       "      <td>sleep1706434495991.png</td>\n",
       "      <td>https://raw.githubusercontent.com/maniotrix/Sa...</td>\n",
       "      <td>NaN</td>\n",
       "      <td>eg634</td>\n",
       "    </tr>\n",
       "    <tr>\n",
       "      <th>4</th>\n",
       "      <td>sleep1706434512534.png</td>\n",
       "      <td>https://raw.githubusercontent.com/maniotrix/Sa...</td>\n",
       "      <td>NaN</td>\n",
       "      <td>Xr46a</td>\n",
       "    </tr>\n",
       "  </tbody>\n",
       "</table>\n",
       "</div>"
      ],
      "text/plain": [
       "             Captcha_Name                                        Captcha_Url  \\\n",
       "0  sleep1706434441843.png  https://raw.githubusercontent.com/maniotrix/Sa...   \n",
       "1  sleep1706434457613.png  https://raw.githubusercontent.com/maniotrix/Sa...   \n",
       "2  sleep1706434476531.png  https://raw.githubusercontent.com/maniotrix/Sa...   \n",
       "3  sleep1706434495991.png  https://raw.githubusercontent.com/maniotrix/Sa...   \n",
       "4  sleep1706434512534.png  https://raw.githubusercontent.com/maniotrix/Sa...   \n",
       "\n",
       "   Captch_Image_View Captcha_Answer  \n",
       "0                NaN          gn67b  \n",
       "1                NaN          c5dx7  \n",
       "2                NaN          b76fk  \n",
       "3                NaN          eg634  \n",
       "4                NaN          Xr46a  "
      ]
     },
     "execution_count": 6,
     "metadata": {},
     "output_type": "execute_result"
    }
   ],
   "source": [
    "labels_df.head()"
   ]
  },
  {
   "cell_type": "code",
   "execution_count": 7,
   "metadata": {},
   "outputs": [
    {
     "data": {
      "text/plain": [
       "'sleep1706447207608.png'"
      ]
     },
     "execution_count": 7,
     "metadata": {},
     "output_type": "execute_result"
    }
   ],
   "source": [
    "labels_df[captcha_name][labels_df.shape[0] - 1]"
   ]
  },
  {
   "cell_type": "code",
   "execution_count": 8,
   "metadata": {},
   "outputs": [],
   "source": [
    "file_names = os.listdir(folder_path)\n",
    "file_names = [file for file in file_names if file.endswith('.png')]\n"
   ]
  },
  {
   "cell_type": "code",
   "execution_count": 9,
   "metadata": {},
   "outputs": [
    {
     "name": "stdout",
     "output_type": "stream",
     "text": [
      "\u001b[33mLabels not found: 800 \u001b[0m\n"
     ]
    }
   ],
   "source": [
    "label_not_found_count = 0\n",
    "# Loop through all the file names in the folder\n",
    "for file_name in file_names:\n",
    "    # check if file not already renamed\n",
    "    if file_name.find('_') != -1:\n",
    "        continue\n",
    "    \n",
    "    # Search for the file name in the \"Captcha_Name\" column\n",
    "    try:\n",
    "        label = labels_df.loc[labels_df[captcha_name] == file_name, captcha_answer].values[0]\n",
    "    except:\n",
    "        label = None\n",
    "        label_not_found_count += 1\n",
    "        continue\n",
    "    \n",
    "    # Check if label is not empty\n",
    "    if label:\n",
    "        # Rename the file with the appended label\n",
    "        new_file_name = file_name.replace('.png', '_' + str(label) + '.png')\n",
    "        \n",
    "        # Copy the file to the samples folder with new name\n",
    "        shutil.copy(os.path.join(folder_path, file_name), os.path.join(samples_destination_folder, new_file_name))\n",
    "\n",
    "# Decorate the print statement with colors\n",
    "print(Fore.YELLOW + 'Labels not found:', label_not_found_count, Style.RESET_ALL)\n",
    "    \n"
   ]
  }
 ],
 "metadata": {
  "kernelspec": {
   "display_name": "base",
   "language": "python",
   "name": "python3"
  },
  "language_info": {
   "codemirror_mode": {
    "name": "ipython",
    "version": 3
   },
   "file_extension": ".py",
   "mimetype": "text/x-python",
   "name": "python",
   "nbconvert_exporter": "python",
   "pygments_lexer": "ipython3",
   "version": "3.9.18"
  }
 },
 "nbformat": 4,
 "nbformat_minor": 2
}
